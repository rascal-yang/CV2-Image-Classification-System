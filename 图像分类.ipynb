{
 "cells": [
  {
   "cell_type": "code",
   "execution_count": 1,
   "metadata": {},
   "outputs": [],
   "source": [
    "from sklearn.cluster import KMeans\n",
    "from sklearn.svm import SVC\n",
    "from sklearn.metrics import accuracy_score\n",
    "import cv2\n",
    "import numpy as np\n",
    "import os\n",
    "import joblib"
   ]
  },
  {
   "cell_type": "code",
   "execution_count": 2,
   "metadata": {},
   "outputs": [],
   "source": [
    "# 1. 数据准备\n",
    "train_path = \"Dataset\"  # 训练数据集路径\n",
    "test_path = \"Dataset\"   # 测试数据集路径\n",
    "train_images = []       # 存储训练图像的灰度图像列表\n",
    "train_labels = []       # 存储训练图像的标签列表\n",
    "test_images = []        # 存储测试图像的灰度图像列表\n",
    "test_labels = []        # 存储测试图像的标签列表\n",
    "\n",
    "# 遍历训练数据集的每个类别目录\n",
    "for category in os.listdir(train_path):\n",
    "    # 对每个类别的前150张图像进行处理\n",
    "    for filename in os.listdir(os.path.join(train_path, category))[:150]:\n",
    "        # 读取图像并转换为灰度图像\n",
    "        img = cv2.imread(os.path.join(train_path, category, filename))\n",
    "        img_gray = cv2.cvtColor(img, cv2.COLOR_BGR2GRAY)\n",
    "        # 将灰度图像和对应的类别标签添加到训练集列表中\n",
    "        train_images.append(img_gray)\n",
    "        train_labels.append(category)\n",
    "\n",
    "    # 对每个类别的后面的图像（超过150张）进行处理，作为测试集\n",
    "    for filename in os.listdir(os.path.join(train_path, category))[150:]:\n",
    "        # 读取图像并转换为灰度图像\n",
    "        img = cv2.imread(os.path.join(train_path, category, filename))\n",
    "        img_gray = cv2.cvtColor(img, cv2.COLOR_BGR2GRAY)\n",
    "        # 将灰度图像和对应的类别标签添加到测试集列表中\n",
    "        test_images.append(img_gray)\n",
    "        test_labels.append(category)"
   ]
  },
  {
   "cell_type": "code",
   "execution_count": 12,
   "metadata": {},
   "outputs": [],
   "source": [
    "# 2. 特征提取和表示（使用空间金字塔）\n",
    "def extract_features_with_pyramid(images):\n",
    "    sift = cv2.SIFT_create()  # 创建SIFT特征提取器\n",
    "    descriptors = []          # 存储图像的特征描述符列表\n",
    "    for img in images:\n",
    "        pyramid_descriptors = []  # 存储图像的金字塔特征描述符列表\n",
    "        for level in range(3):   # 三级空间金字塔\n",
    "            scale = 2 ** level    # 计算金字塔缩放比例\n",
    "            # 将图像按照缩放比例进行缩放\n",
    "            resized_img = cv2.resize(img, (img.shape[1] // scale, img.shape[0] // scale))\n",
    "            # 使用SIFT提取缩放后图像的关键点和特征描述符\n",
    "            kp, des = sift.detectAndCompute(resized_img, None)\n",
    "            # 如果存在特征描述符，则将其添加到金字塔特征描述符列表中\n",
    "            if des is not None:\n",
    "                pyramid_descriptors.extend(des)\n",
    "        # 将金字塔特征描述符列表添加到总的特征描述符列表中\n",
    "        descriptors.append(pyramid_descriptors)\n",
    "    return descriptors\n",
    "\n",
    "# 对训练集和测试集图像提取空间金字塔特征描述符\n",
    "train_descriptors = extract_features_with_pyramid(train_images)\n",
    "test_descriptors = extract_features_with_pyramid(test_images)"
   ]
  },
  {
   "cell_type": "code",
   "execution_count": 13,
   "metadata": {},
   "outputs": [],
   "source": [
    "# 3. 特征聚类\n",
    "all_descriptors = [desc for sublist in train_descriptors for desc in sublist]\n",
    "kmeans = KMeans(n_clusters=100)\n",
    "kmeans.fit(all_descriptors)\n",
    "visual_words = kmeans.cluster_centers_"
   ]
  },
  {
   "cell_type": "code",
   "execution_count": 14,
   "metadata": {},
   "outputs": [],
   "source": [
    "def build_features(descriptors, kmeans):\n",
    "    \"\"\"\n",
    "    构建图像词袋表示\n",
    "    \"\"\"\n",
    "    features = []  # 存储图像的词袋表示列表\n",
    "    \n",
    "    # 遍历每个图像的特征描述符列表\n",
    "    for desc in descriptors:\n",
    "        histogram = np.zeros(len(kmeans.cluster_centers_), dtype=np.float32)  # 初始化特征直方图向量\n",
    "        \n",
    "        if desc is not None:\n",
    "            # 使用K均值模型对特征描述符进行聚类，获取对应的类别标签\n",
    "            labels = kmeans.predict(desc)\n",
    "            # 统计每个类别标签的出现次数，构建特征直方图\n",
    "            for label in labels:\n",
    "                histogram[label] += 1\n",
    "\n",
    "        # 将特征直方图添加到图像的词袋表示列表中\n",
    "        features.append(histogram)\n",
    "    \n",
    "    return features\n",
    "\n",
    "# 构建训练集和测试集的图像词袋表示\n",
    "train_features = build_features(train_descriptors, kmeans)\n",
    "test_features = build_features(test_descriptors, kmeans)\n"
   ]
  },
  {
   "cell_type": "code",
   "execution_count": 15,
   "metadata": {},
   "outputs": [
    {
     "data": {
      "text/html": [
       "<style>#sk-container-id-3 {color: black;background-color: white;}#sk-container-id-3 pre{padding: 0;}#sk-container-id-3 div.sk-toggleable {background-color: white;}#sk-container-id-3 label.sk-toggleable__label {cursor: pointer;display: block;width: 100%;margin-bottom: 0;padding: 0.3em;box-sizing: border-box;text-align: center;}#sk-container-id-3 label.sk-toggleable__label-arrow:before {content: \"▸\";float: left;margin-right: 0.25em;color: #696969;}#sk-container-id-3 label.sk-toggleable__label-arrow:hover:before {color: black;}#sk-container-id-3 div.sk-estimator:hover label.sk-toggleable__label-arrow:before {color: black;}#sk-container-id-3 div.sk-toggleable__content {max-height: 0;max-width: 0;overflow: hidden;text-align: left;background-color: #f0f8ff;}#sk-container-id-3 div.sk-toggleable__content pre {margin: 0.2em;color: black;border-radius: 0.25em;background-color: #f0f8ff;}#sk-container-id-3 input.sk-toggleable__control:checked~div.sk-toggleable__content {max-height: 200px;max-width: 100%;overflow: auto;}#sk-container-id-3 input.sk-toggleable__control:checked~label.sk-toggleable__label-arrow:before {content: \"▾\";}#sk-container-id-3 div.sk-estimator input.sk-toggleable__control:checked~label.sk-toggleable__label {background-color: #d4ebff;}#sk-container-id-3 div.sk-label input.sk-toggleable__control:checked~label.sk-toggleable__label {background-color: #d4ebff;}#sk-container-id-3 input.sk-hidden--visually {border: 0;clip: rect(1px 1px 1px 1px);clip: rect(1px, 1px, 1px, 1px);height: 1px;margin: -1px;overflow: hidden;padding: 0;position: absolute;width: 1px;}#sk-container-id-3 div.sk-estimator {font-family: monospace;background-color: #f0f8ff;border: 1px dotted black;border-radius: 0.25em;box-sizing: border-box;margin-bottom: 0.5em;}#sk-container-id-3 div.sk-estimator:hover {background-color: #d4ebff;}#sk-container-id-3 div.sk-parallel-item::after {content: \"\";width: 100%;border-bottom: 1px solid gray;flex-grow: 1;}#sk-container-id-3 div.sk-label:hover label.sk-toggleable__label {background-color: #d4ebff;}#sk-container-id-3 div.sk-serial::before {content: \"\";position: absolute;border-left: 1px solid gray;box-sizing: border-box;top: 0;bottom: 0;left: 50%;z-index: 0;}#sk-container-id-3 div.sk-serial {display: flex;flex-direction: column;align-items: center;background-color: white;padding-right: 0.2em;padding-left: 0.2em;position: relative;}#sk-container-id-3 div.sk-item {position: relative;z-index: 1;}#sk-container-id-3 div.sk-parallel {display: flex;align-items: stretch;justify-content: center;background-color: white;position: relative;}#sk-container-id-3 div.sk-item::before, #sk-container-id-3 div.sk-parallel-item::before {content: \"\";position: absolute;border-left: 1px solid gray;box-sizing: border-box;top: 0;bottom: 0;left: 50%;z-index: -1;}#sk-container-id-3 div.sk-parallel-item {display: flex;flex-direction: column;z-index: 1;position: relative;background-color: white;}#sk-container-id-3 div.sk-parallel-item:first-child::after {align-self: flex-end;width: 50%;}#sk-container-id-3 div.sk-parallel-item:last-child::after {align-self: flex-start;width: 50%;}#sk-container-id-3 div.sk-parallel-item:only-child::after {width: 0;}#sk-container-id-3 div.sk-dashed-wrapped {border: 1px dashed gray;margin: 0 0.4em 0.5em 0.4em;box-sizing: border-box;padding-bottom: 0.4em;background-color: white;}#sk-container-id-3 div.sk-label label {font-family: monospace;font-weight: bold;display: inline-block;line-height: 1.2em;}#sk-container-id-3 div.sk-label-container {text-align: center;}#sk-container-id-3 div.sk-container {/* jupyter's `normalize.less` sets `[hidden] { display: none; }` but bootstrap.min.css set `[hidden] { display: none !important; }` so we also need the `!important` here to be able to override the default hidden behavior on the sphinx rendered scikit-learn.org. See: https://github.com/scikit-learn/scikit-learn/issues/21755 */display: inline-block !important;position: relative;}#sk-container-id-3 div.sk-text-repr-fallback {display: none;}</style><div id=\"sk-container-id-3\" class=\"sk-top-container\"><div class=\"sk-text-repr-fallback\"><pre>SVC()</pre><b>In a Jupyter environment, please rerun this cell to show the HTML representation or trust the notebook. <br />On GitHub, the HTML representation is unable to render, please try loading this page with nbviewer.org.</b></div><div class=\"sk-container\" hidden><div class=\"sk-item\"><div class=\"sk-estimator sk-toggleable\"><input class=\"sk-toggleable__control sk-hidden--visually\" id=\"sk-estimator-id-3\" type=\"checkbox\" checked><label for=\"sk-estimator-id-3\" class=\"sk-toggleable__label sk-toggleable__label-arrow\">SVC</label><div class=\"sk-toggleable__content\"><pre>SVC()</pre></div></div></div></div></div>"
      ],
      "text/plain": [
       "SVC()"
      ]
     },
     "execution_count": 15,
     "metadata": {},
     "output_type": "execute_result"
    }
   ],
   "source": [
    "# 5. 训练分类器\n",
    "svm = SVC()\n",
    "svm.fit(train_features, train_labels)\n",
    "\n",
    "# 6. 保存模型参数\n",
    "# joblib.dump(svm, 'pkl2/svm_model.pkl')\n",
    "# joblib.dump(kmeans, 'pkl2/kmeans_model.pkl')\n"
   ]
  },
  {
   "cell_type": "code",
   "execution_count": 16,
   "metadata": {},
   "outputs": [
    {
     "name": "stdout",
     "output_type": "stream",
     "text": [
      "Accuracy: 0.5360178970917227\n"
     ]
    }
   ],
   "source": [
    "# 7. 评估分类器\n",
    "predictions = svm.predict(test_features)\n",
    "accuracy = accuracy_score(test_labels, predictions)\n",
    "print(\"Accuracy:\", accuracy)"
   ]
  }
 ],
 "metadata": {
  "kernelspec": {
   "display_name": "base",
   "language": "python",
   "name": "python3"
  },
  "language_info": {
   "codemirror_mode": {
    "name": "ipython",
    "version": 3
   },
   "file_extension": ".py",
   "mimetype": "text/x-python",
   "name": "python",
   "nbconvert_exporter": "python",
   "pygments_lexer": "ipython3",
   "version": "3.9.12"
  }
 },
 "nbformat": 4,
 "nbformat_minor": 2
}
